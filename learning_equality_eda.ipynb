{
 "cells": [
  {
   "cell_type": "code",
   "execution_count": null,
   "metadata": {},
   "outputs": [],
   "source": [
    "import os\n",
    "\n",
    "working_directory = '/home/jacky_macpro/workspaces/project_2/'\n",
    "data_directory = os.path.join(working_directory, 'data')"
   ]
  },
  {
   "cell_type": "code",
   "execution_count": null,
   "metadata": {},
   "outputs": [],
   "source": [
    "import pandas as pd\n",
    "import numpy as np\n"
   ]
  },
  {
   "cell_type": "code",
   "execution_count": null,
   "metadata": {},
   "outputs": [],
   "source": [
    "topics = pd.read_csv(data_directory + 'topics.csv')\n",
    "correlations = pd.read_csv(data_directory + 'correlations.csv')\n",
    "content = pd.read_csv(data_directory + 'content.csv')"
   ]
  },
  {
   "cell_type": "code",
   "execution_count": null,
   "metadata": {},
   "outputs": [],
   "source": [
    "def explore_curriculum_data(topics_df, content):\n",
    "    \"\"\"\n",
    "    Perform exploratory data analysis on curriculum recommendation datasets\n",
    "\n",
    "    Parameters:\n",
    "    topics_df (pd.DataFrame): Topics dataset\n",
    "    content (pd.DataFrame): Content dataset\n",
    "\n",
    "    Returns:\n",
    "    dict: Dictionary containing analysis results\n",
    "    \"\"\"\n",
    "    analysis = {}\n",
    "\n",
    "    # Basic dataset info\n",
    "    analysis['topics_shape'] = topics_df.shape\n",
    "    analysis['content_shape'] = content.shape\n",
    "\n",
    "    # Check missing values\n",
    "    analysis['topics_missing'] = topics_df.isnull().sum()\n",
    "    analysis['content_missing'] = content.isnull().sum()\n",
    "\n",
    "    # Analyze topics dataset\n",
    "    analysis['topic_level_counts'] = topics_df['level'].value_counts()\n",
    "    analysis['topic_language_counts'] = topics_df['language'].value_counts()\n",
    "\n",
    "    # Analyze content dataset\n",
    "    analysis['content_language_counts'] = content['language'].value_counts()\n",
    "    analysis['content_kind_counts'] = content['kind'].value_counts()\n",
    "\n",
    "    # Calculate text length statistics\n",
    "    content['title_length'] = content['title'].str.len()\n",
    "    content['description_length'] = content['description'].fillna('').str.len()\n",
    "\n",
    "    analysis['content_title_stats'] = content['title_length'].describe()\n",
    "    analysis['content_desc_stats'] = content['description_length'].describe()\n",
    "\n",
    "    # Check relationships\n",
    "    topics_per_language = topics_df.groupby('language').size()\n",
    "    content_per_language = content.groupby('language').size()\n",
    "    analysis['topics_to_content_ratio'] = (topics_per_language / content_per_language).fillna(0)\n",
    "\n",
    "    return analysis\n",
    "\n",
    "# Run the analysis\n",
    "results = explore_curriculum_data(topics, content)\n",
    "\n",
    "# Print key findings\n",
    "print(\"Dataset Dimensions:\")\n",
    "print(f\"Topics dataset: {results['topics_shape'][0]:,} rows × {results['topics_shape'][1]} columns\")\n",
    "print(f\"Content dataset: {results['content_shape'][0]:,} rows × {results['content_shape'][1]} columns\\n\")\n",
    "\n",
    "print(\"Topic Levels Distribution:\")\n",
    "print(results['topic_level_counts'])\n",
    "print(\"\\nTop 5 Languages by Topic Count:\")\n",
    "print(results['topic_language_counts'].head())\n",
    "print(\"\\nTop 5 Content Types:\")\n",
    "print(results['content_kind_counts'].head())\n",
    "print(\"\\nContent Title Length Statistics:\")\n",
    "print(results['content_title_stats'].round(2))"
   ]
  },
  {
   "cell_type": "code",
   "execution_count": null,
   "metadata": {},
   "outputs": [],
   "source": [
    "print(topics.shape)\n",
    "topics.head(10)"
   ]
  },
  {
   "cell_type": "code",
   "execution_count": null,
   "metadata": {},
   "outputs": [],
   "source": [
    "print(content.shape)\n",
    "content.head(10)"
   ]
  },
  {
   "cell_type": "code",
   "execution_count": null,
   "metadata": {},
   "outputs": [],
   "source": [
    "print(correlations.shape)\n",
    "correlations.head()"
   ]
  },
  {
   "cell_type": "code",
   "execution_count": null,
   "metadata": {},
   "outputs": [],
   "source": [
    "#creating mapping dictionaries for parent and title\n",
    "title_map = topics.set_index(\"id\")[\"title\"].to_dict()\n",
    "parent_map = topics.set_index(\"id\")[\"parent\"].to_dict()\n",
    "\n",
    "#addign parent title columns\n",
    "topics[\"parent_title\"] = topics[\"parent\"].apply(lambda x: title_map.get(x, \"\"))\n",
    "print(topics.shape)\n",
    "\n",
    "#addding grandpa title\n",
    "topics[\"grandpa\"] = topics[\"parent\"].apply(lambda x: parent_map.get(x))\n",
    "topics[\"grandpa_title\"] = topics[\"grandpa\"].apply(lambda x: title_map.get(x, \"\"))\n",
    "print(topics.shape)\n",
    "\n",
    "#adding great grandpa title\n",
    "topics[\"ggrandpa\"] = topics[\"grandpa\"].apply(lambda x: parent_map.get(x))\n",
    "topics[\"ggrandpa_title\"] = topics[\"ggrandpa\"].apply(lambda x: title_map.get(x, \"\"))\n",
    "print(topics.shape)\n",
    "\n",
    "#fill in missing parent values\n",
    "topics[\"parent\"] = topics[\"parent\"].fillna(topics[\"id\"])\n",
    "\n",
    "sub_df = pd.read_csv(working_directory + \"sample_submission.csv\")\n",
    "\n",
    "topics[\"sub\"] = topics[\"id\"].isin(sub_df[\"topic_id\"])\n",
    "topics.shape\n"
   ]
  },
  {
   "cell_type": "code",
   "execution_count": null,
   "metadata": {},
   "outputs": [],
   "source": [
    "def extract_number(x, is_subtopic=False):\n",
    "    chapter, rest = x.split(\":\", 1)\n",
    "\n",
    "    if is_subtopic:\n",
    "        chapter = chapter.split(\".\", 1)[0]\n",
    "        x = f\"{chapter}:{rest}\"\n",
    "    chapter = int(chapter)\n",
    "\n",
    "    return chapter, x\n",
    "\n",
    "def extract_chapters(df, is_subtopic):\n",
    "    titles = df[\"title\"].fillna(\"\").values\n",
    "\n",
    "    chapters = np.zeros(len(titles))\n",
    "    new_titles = np.array(titles)\n",
    "\n",
    "    for i, title in enumerate(titles):\n",
    "        try:\n",
    "            chapters[i], new_titles[i] = extract_number(title, is_subtopic)\n",
    "        except:\n",
    "            pass\n",
    "\n",
    "    df[\"chapter\"], df[\"title\"] = chapters, new_titles\n",
    "    df[\"chapter\"] = df[\"chapter\"].astype(int)\n",
    "\n",
    "    df.loc[df[\"chapter\"] == 0, \"chapter\"] = None\n",
    "    return df\n",
    "\n"
   ]
  },
  {
   "cell_type": "code",
   "execution_count": null,
   "metadata": {},
   "outputs": [],
   "source": [
    "\n",
    "content[\"t\"] = content[\"title\"].fillna(\"\") + \" | \" + content[\"kind\"].fillna(\"\") + \" | \" + content[\"description\"].fillna(\"\")\n",
    "\n",
    "topics = extract_chapters(topics, False)\n",
    "content = extract_chapters(content, True)\n",
    "\n",
    "topics[\"t\"] = topics[\"title\"] + \" @ \" + topics[\"parent_title\"] + \" @ \" + topics[\"grandpa_title\"] + \" @ \" + topics[\"ggrandpa_title\"] + \" | \" + topics[\"description\"].fillna(\"\")\n"
   ]
  }
 ],
 "metadata": {
  "kernelspec": {
   "display_name": "learning-equality",
   "language": "python",
   "name": "python3"
  },
  "language_info": {
   "name": "python",
   "version": "3.13.0"
  }
 },
 "nbformat": 4,
 "nbformat_minor": 2
}
